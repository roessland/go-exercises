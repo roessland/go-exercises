{
 "cells": [
  {
   "cell_type": "code",
   "execution_count": null,
   "metadata": {
    "scrolled": false
   },
   "outputs": [],
   "source": [
    "from matplotlib import cm\n",
    "with open(\"viridis.go\", \"w+\") as f:\n",
    "    f.write(\"package main\\n\\n\")\n",
    "    f.write('import \"image/color\"\\n\\n')\n",
    "    f.write(\"var viridis = []color.RGBA{\\n\")\n",
    "    for color in cm.viridis.colors:\n",
    "        print(color)\n",
    "        rr, gg, bb = int(color[0]*255), int(color[1]*255), int(color[2]*255)\n",
    "        f.write(\"\\t{{0x{:02X}, 0x{:02X}, 0x{:02X}, 0xFF}},\\n\".format(rr, gg, bb))\n",
    "    f.write(\"}\\n\")"
   ]
  }
 ],
 "metadata": {
  "kernelspec": {
   "display_name": "Python [conda root]",
   "language": "python",
   "name": "conda-root-py"
  },
  "language_info": {
   "codemirror_mode": {
    "name": "ipython",
    "version": 3
   },
   "file_extension": ".py",
   "mimetype": "text/x-python",
   "name": "python",
   "nbconvert_exporter": "python",
   "pygments_lexer": "ipython3",
   "version": "3.5.6"
  }
 },
 "nbformat": 4,
 "nbformat_minor": 2
}
